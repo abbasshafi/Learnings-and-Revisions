{
 "cells": [
  {
   "cell_type": "markdown",
   "id": "5de218f1",
   "metadata": {},
   "source": [
    "If you want to use sagemaker in local machine 3 things are important to insall\n",
    "1. aws CLI  (ke aws k sare services se conecate kar sako)\n",
    "2. Boto3\n",
    "3. Sagemaker\n",
    "\n",
    "folder bana k virtuall enviroment"
   ]
  },
  {
   "cell_type": "code",
   "execution_count": 1,
   "id": "96864456",
   "metadata": {},
   "outputs": [],
   "source": [
    "import sagemaker\n",
    "import boto3"
   ]
  },
  {
   "cell_type": "markdown",
   "id": "c9c0e0ed",
   "metadata": {},
   "source": [
    "# S3"
   ]
  },
  {
   "cell_type": "markdown",
   "id": "1f5891c0",
   "metadata": {},
   "source": [
    "Amazon Simple Storage Service (Amazon S3) is an object storage service"
   ]
  },
  {
   "cell_type": "markdown",
   "id": "7d971366",
   "metadata": {},
   "source": [
    "S3 can be accessed globaly"
   ]
  },
  {
   "cell_type": "markdown",
   "id": "e3b77163",
   "metadata": {},
   "source": [
    "# Amazon SageMaker Studio"
   ]
  },
  {
   "cell_type": "markdown",
   "id": "6ca7207a",
   "metadata": {},
   "source": [
    "Amazon SageMaker Studio provides a single, web-based visual interface where you can perform all ML development steps, improving data science team productivity by up to 10x. SageMaker Studio gives you complete access, control, and visibility into each step required to build, train, and deploy models."
   ]
  },
  {
   "cell_type": "markdown",
   "id": "49d6f11e",
   "metadata": {},
   "source": [
    "# Notebook Instance"
   ]
  },
  {
   "cell_type": "markdown",
   "id": "0c2374ef",
   "metadata": {},
   "source": [
    "You use the notebook instance to create and manage Jupyter notebooks for preprocessing data and to train and deploy machine learning models."
   ]
  },
  {
   "cell_type": "markdown",
   "id": "7daf211b",
   "metadata": {},
   "source": [
    "# Difference between sagemaker studio and notebook instance"
   ]
  },
  {
   "cell_type": "markdown",
   "id": "90f61a07",
   "metadata": {},
   "source": [
    "Starting a Studio notebook is faster than launching an instance-based notebook. Typically, it is 5-10 times faster than instance-based notebooks.\n",
    "\n",
    "Notebook sharing is an integrated feature in SageMaker Studio. Users can generate a shareable link that reproduces the notebook code and also the SageMaker image required to execute it, in just a few clicks.\n",
    "\n",
    "SageMaker Studio notebooks come pre-installed with the latest Amazon SageMaker Python SDK.\n",
    "\n",
    "SageMaker Studio notebooks are accessed from within Studio. This enables you to build, train, debug, track, and monitor your models without leaving Studio"
   ]
  },
  {
   "cell_type": "markdown",
   "id": "92f0fd35",
   "metadata": {},
   "source": [
    "# IAM User: \n",
    "    (identity access managment) used for particular work, if i want you to use a pericular service i will \n",
    "    select\n",
    "\n",
    "\n",
    "# Root User:\n",
    "    administeration tools e.g deleting account etc, all rights are available"
   ]
  },
  {
   "cell_type": "markdown",
   "id": "219e73b4",
   "metadata": {},
   "source": [
    "# Labeling data with Amazon SageMaker Ground Truth"
   ]
  },
  {
   "cell_type": "markdown",
   "id": "949c1b85",
   "metadata": {},
   "source": [
    "Ground Truth can enable automatic\n",
    "labeling, a technique that trains a machine learning model able to label data without\n",
    "additional human intervention."
   ]
  },
  {
   "cell_type": "markdown",
   "id": "a0102483",
   "metadata": {},
   "source": [
    "# Using workforces\n",
    "The first step in using Ground Truth is to create a workforce, a group of workers in charge\n",
    "of labeling data samples.\n",
    "1. Amazon Mechanical Turk, \n",
    "2. Vendor\n",
    "3. Private"
   ]
  },
  {
   "cell_type": "markdown",
   "id": "78f68676",
   "metadata": {},
   "source": [
    "# Amazon Mechanical Turk:   (https://www.mturk.com/) \n",
    "makes it easy to break down large batch jobs into small work units that can be processed by a distributed workforce."
   ]
  },
  {
   "cell_type": "markdown",
   "id": "377bb73c",
   "metadata": {},
   "source": [
    "# Vendor workforce:\n",
    "As scalable as Mechanical Turk is, sometimes you need more control on who data\n",
    "is shared with, and on the quality of annotations, particularly if additional domain\n",
    "knowledge is required."
   ]
  },
  {
   "cell_type": "markdown",
   "id": "ad2fbe73",
   "metadata": {},
   "source": [
    "# Private workforce:\n",
    "Sometimes, data can't be processed by third parties. Maybe it's just too sensitive, or maybe\n",
    "it requires expert knowledge that only your company's employees have. In this case, you\n",
    "can create a private workforce made up of well-identified individuals that will access and\n",
    "label your data."
   ]
  },
  {
   "cell_type": "code",
   "execution_count": null,
   "id": "653494c3",
   "metadata": {},
   "outputs": [],
   "source": []
  },
  {
   "cell_type": "code",
   "execution_count": null,
   "id": "da23d8ab",
   "metadata": {},
   "outputs": [],
   "source": []
  }
 ],
 "metadata": {
  "kernelspec": {
   "display_name": "sagemaker",
   "language": "python",
   "name": "sagemaker"
  },
  "language_info": {
   "codemirror_mode": {
    "name": "ipython",
    "version": 3
   },
   "file_extension": ".py",
   "mimetype": "text/x-python",
   "name": "python",
   "nbconvert_exporter": "python",
   "pygments_lexer": "ipython3",
   "version": "3.9.12"
  }
 },
 "nbformat": 4,
 "nbformat_minor": 5
}
