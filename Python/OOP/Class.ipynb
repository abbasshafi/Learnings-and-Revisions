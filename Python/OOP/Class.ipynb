{
 "cells": [
  {
   "cell_type": "code",
   "execution_count": 1,
   "id": "59d30aa2",
   "metadata": {},
   "outputs": [],
   "source": [
    "class shirt():\n",
    "    def __init__(self,shirt_color,shirt_size,shirt_shape,shirt_price):\n",
    "        self.color=shirt_color\n",
    "        self.size=shirt_size\n",
    "        self.shape=shirt_shape\n",
    "        self.price=shirt_price\n",
    "        \n",
    "    def change_price(self,change_price):\n",
    "        self.price=change_price\n",
    "        \n",
    "        "
   ]
  },
  {
   "cell_type": "code",
   "execution_count": 8,
   "id": "0b9cad7a",
   "metadata": {},
   "outputs": [
    {
     "data": {
      "text/plain": [
       "<__main__.shirt at 0x7fa054117e80>"
      ]
     },
     "execution_count": 8,
     "metadata": {},
     "output_type": "execute_result"
    }
   ],
   "source": [
    "#object\n",
    "shirt('black & white','medium','cheeke','$10')"
   ]
  },
  {
   "cell_type": "code",
   "execution_count": 9,
   "id": "6b539a64",
   "metadata": {},
   "outputs": [],
   "source": [
    "new_shirt=shirt('black & white','medium','cheeke','$10')"
   ]
  },
  {
   "cell_type": "code",
   "execution_count": 1,
   "id": "20416c71",
   "metadata": {},
   "outputs": [
    {
     "ename": "NameError",
     "evalue": "name 'new_shirt' is not defined",
     "output_type": "error",
     "traceback": [
      "\u001b[0;31m---------------------------------------------------------------------------\u001b[0m",
      "\u001b[0;31mNameError\u001b[0m                                 Traceback (most recent call last)",
      "Input \u001b[0;32mIn [1]\u001b[0m, in \u001b[0;36m<cell line: 1>\u001b[0;34m()\u001b[0m\n\u001b[0;32m----> 1\u001b[0m \u001b[38;5;28mprint\u001b[39m(\u001b[43mnew_shirt\u001b[49m\u001b[38;5;241m.\u001b[39mcolor)\n\u001b[1;32m      2\u001b[0m \u001b[38;5;28mprint\u001b[39m(new_shirt\u001b[38;5;241m.\u001b[39msize)\n\u001b[1;32m      3\u001b[0m \u001b[38;5;28mprint\u001b[39m(new_shirt\u001b[38;5;241m.\u001b[39mshape)\n",
      "\u001b[0;31mNameError\u001b[0m: name 'new_shirt' is not defined"
     ]
    }
   ],
   "source": [
    "print(new_shirt.color)\n",
    "print(new_shirt.size)\n",
    "print(new_shirt.shape)\n",
    "print(new_shirt.price)"
   ]
  },
  {
   "cell_type": "code",
   "execution_count": null,
   "id": "705b8fdc",
   "metadata": {},
   "outputs": [],
   "source": []
  },
  {
   "cell_type": "code",
   "execution_count": null,
   "id": "7f028009",
   "metadata": {},
   "outputs": [],
   "source": []
  },
  {
   "cell_type": "code",
   "execution_count": null,
   "id": "da8d40b1",
   "metadata": {},
   "outputs": [],
   "source": []
  },
  {
   "cell_type": "code",
   "execution_count": null,
   "id": "61616bae",
   "metadata": {},
   "outputs": [],
   "source": []
  },
  {
   "cell_type": "code",
   "execution_count": null,
   "id": "ed48cb75",
   "metadata": {},
   "outputs": [],
   "source": []
  },
  {
   "cell_type": "code",
   "execution_count": null,
   "id": "0f145960",
   "metadata": {},
   "outputs": [],
   "source": []
  },
  {
   "cell_type": "code",
   "execution_count": null,
   "id": "906084da",
   "metadata": {},
   "outputs": [],
   "source": []
  },
  {
   "cell_type": "code",
   "execution_count": null,
   "id": "ea6e16b6",
   "metadata": {},
   "outputs": [],
   "source": []
  },
  {
   "cell_type": "code",
   "execution_count": null,
   "id": "61b5359e",
   "metadata": {},
   "outputs": [],
   "source": []
  },
  {
   "cell_type": "code",
   "execution_count": null,
   "id": "feeecf0e",
   "metadata": {},
   "outputs": [],
   "source": []
  },
  {
   "cell_type": "code",
   "execution_count": 16,
   "id": "aba1b622",
   "metadata": {},
   "outputs": [],
   "source": [
    "class Shirt:\n",
    "    def __init__ (self,size,color,style,price):\n",
    "        \n",
    "        self.size = size\n",
    "        self.color = color\n",
    "        self.style = style\n",
    "        self.price = price\n",
    "    \n",
    "    def change_price(self,change_price):\n",
    "        self.price = change_price\n",
    "    \n",
    "    def discount_price(self,discount_price):\n",
    "        return self.price*(1-discount_price)\n",
    "            "
   ]
  },
  {
   "cell_type": "code",
   "execution_count": 9,
   "id": "c6ec033a",
   "metadata": {},
   "outputs": [],
   "source": [
    "Shirt('2XL','Black','sleeveless',10)\n",
    "new_shirt = Shirt('2XL','Black','sleeveless',10)"
   ]
  },
  {
   "cell_type": "code",
   "execution_count": 10,
   "id": "2a9986cb",
   "metadata": {},
   "outputs": [
    {
     "name": "stdout",
     "output_type": "stream",
     "text": [
      "2XL\n",
      "Black\n",
      "sleeveless\n",
      "10\n"
     ]
    }
   ],
   "source": [
    "print(new_shirt.size)\n",
    "print(new_shirt.color)\n",
    "print(new_shirt.style)\n",
    "print(new_shirt.price)"
   ]
  },
  {
   "cell_type": "code",
   "execution_count": 11,
   "id": "53254273",
   "metadata": {},
   "outputs": [
    {
     "name": "stdout",
     "output_type": "stream",
     "text": [
      "8\n"
     ]
    }
   ],
   "source": [
    "new_shirt.change_price(8)\n",
    "print(new_shirt.price)"
   ]
  },
  {
   "cell_type": "code",
   "execution_count": 15,
   "id": "18fc941e",
   "metadata": {},
   "outputs": [
    {
     "name": "stdout",
     "output_type": "stream",
     "text": [
      "4.0\n"
     ]
    }
   ],
   "source": [
    "new_shirt.discount_price(8)\n",
    "print(new_shirt.price)"
   ]
  },
  {
   "cell_type": "code",
   "execution_count": null,
   "id": "ed96037c",
   "metadata": {},
   "outputs": [],
   "source": []
  }
 ],
 "metadata": {
  "kernelspec": {
   "display_name": "Python 3 (ipykernel)",
   "language": "python",
   "name": "python3"
  },
  "language_info": {
   "codemirror_mode": {
    "name": "ipython",
    "version": 3
   },
   "file_extension": ".py",
   "mimetype": "text/x-python",
   "name": "python",
   "nbconvert_exporter": "python",
   "pygments_lexer": "ipython3",
   "version": "3.9.12"
  }
 },
 "nbformat": 4,
 "nbformat_minor": 5
}
