{
 "cells": [
  {
   "cell_type": "code",
   "execution_count": 5,
   "id": "7c051286",
   "metadata": {},
   "outputs": [],
   "source": [
    "import torch\n",
    "from torch import nn"
   ]
  },
  {
   "cell_type": "code",
   "execution_count": 6,
   "id": "6164664f",
   "metadata": {},
   "outputs": [],
   "source": [
    "#when we take our input x and then multiply it by weights and add your bias term thats linear Transformation"
   ]
  },
  {
   "cell_type": "code",
   "execution_count": 7,
   "id": "ac1a8a9c",
   "metadata": {},
   "outputs": [],
   "source": [
    "class Neural(nn.Module):\n",
    "    def __init__(self):\n",
    "        super.__init__()\n",
    "        \n",
    "        #it creates an object that itself has created parameters for weights and bias and then pass a tensor h layer\n",
    "        self.hidden= nn.Linear(784,256)\n",
    "        \n",
    "        #input of 256 and output 10\n",
    "        self.output=nn.Linear(256,10)\n",
    "        \n",
    "        #define sigmoid activation and softmax output\n",
    "        self.sigmoid=nn.Sigmoid()\n",
    "        self.softmax=nn.softmax(dim=1)\n",
    "        \n",
    "        def forward(self,x):\n",
    "            #pass the input tensor through all of the operations\n",
    "            x=self.hidden(x)\n",
    "            x=self.output(x)\n",
    "            x=self.sigmoid(x)\n",
    "            x=self.softmax(x)\n",
    "            \n",
    "            return x"
   ]
  },
  {
   "cell_type": "code",
   "execution_count": 8,
   "id": "8edce35b",
   "metadata": {},
   "outputs": [],
   "source": [
    "import torch.nn.functional as F\n",
    "class Neural(nn.Module):\n",
    "    def __init__(self):\n",
    "        super.__init__()\n",
    "        \n",
    "        self.hidden= nn.Linear(784,256)\n",
    "        \n",
    "        self.out=nn.Linear(256,10)\n",
    "        \n",
    "       \n",
    "        \n",
    "        def forward(self,x):\n",
    "            x=F.sigmoid(self.hidden(x))\n",
    "            x=F.softmax(self.output(x))\n",
    "            \n",
    "            return x"
   ]
  },
  {
   "cell_type": "code",
   "execution_count": null,
   "id": "7245bb4b",
   "metadata": {},
   "outputs": [],
   "source": []
  }
 ],
 "metadata": {
  "kernelspec": {
   "display_name": "Python 3 (ipykernel)",
   "language": "python",
   "name": "python3"
  },
  "language_info": {
   "codemirror_mode": {
    "name": "ipython",
    "version": 3
   },
   "file_extension": ".py",
   "mimetype": "text/x-python",
   "name": "python",
   "nbconvert_exporter": "python",
   "pygments_lexer": "ipython3",
   "version": "3.9.12"
  }
 },
 "nbformat": 4,
 "nbformat_minor": 5
}
