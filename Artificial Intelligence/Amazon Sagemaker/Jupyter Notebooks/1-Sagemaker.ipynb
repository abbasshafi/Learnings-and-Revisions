{
 "cells": [
  {
   "cell_type": "markdown",
   "id": "5de218f1",
   "metadata": {},
   "source": [
    "If you want to use sagemaker in local machine 3 things are important to insall\n",
    "1. aws CLI  (ke aws k sare services se conecate kar sako)\n",
    "2. Boto3\n",
    "3. Sagemaker\n",
    "\n",
    "folder bana k virtuall enviroment"
   ]
  },
  {
   "cell_type": "code",
   "execution_count": 1,
   "id": "96864456",
   "metadata": {},
   "outputs": [],
   "source": [
    "import sagemaker\n",
    "import boto3"
   ]
  },
  {
   "cell_type": "markdown",
   "id": "c9c0e0ed",
   "metadata": {},
   "source": [
    "# S3"
   ]
  },
  {
   "cell_type": "markdown",
   "id": "1f5891c0",
   "metadata": {},
   "source": [
    "Amazon Simple Storage Service (Amazon S3) is an object storage service"
   ]
  },
  {
   "cell_type": "markdown",
   "id": "7d971366",
   "metadata": {},
   "source": [
    "S3 can be accessed globaly"
   ]
  },
  {
   "cell_type": "markdown",
   "id": "e3b77163",
   "metadata": {},
   "source": [
    "# Amazon SageMaker Studio"
   ]
  },
  {
   "cell_type": "markdown",
   "id": "6ca7207a",
   "metadata": {},
   "source": [
    "Amazon SageMaker Studio provides a single, web-based visual interface where you can perform all ML development steps, improving data science team productivity by up to 10x. SageMaker Studio gives you complete access, control, and visibility into each step required to build, train, and deploy models."
   ]
  },
  {
   "cell_type": "markdown",
   "id": "49d6f11e",
   "metadata": {},
   "source": [
    "# Notebook Instance"
   ]
  },
  {
   "cell_type": "markdown",
   "id": "0c2374ef",
   "metadata": {},
   "source": [
    "You use the notebook instance to create and manage Jupyter notebooks for preprocessing data and to train and deploy machine learning models."
   ]
  },
  {
   "cell_type": "markdown",
   "id": "7daf211b",
   "metadata": {},
   "source": [
    "# Difference between sagemaker studio and notebook instance"
   ]
  },
  {
   "cell_type": "markdown",
   "id": "90f61a07",
   "metadata": {},
   "source": [
    "Starting a Studio notebook is faster than launching an instance-based notebook. Typically, it is 5-10 times faster than instance-based notebooks.\n",
    "\n",
    "Notebook sharing is an integrated feature in SageMaker Studio. Users can generate a shareable link that reproduces the notebook code and also the SageMaker image required to execute it, in just a few clicks.\n",
    "\n",
    "SageMaker Studio notebooks come pre-installed with the latest Amazon SageMaker Python SDK.\n",
    "\n",
    "SageMaker Studio notebooks are accessed from within Studio. This enables you to build, train, debug, track, and monitor your models without leaving Studio"
   ]
  },
  {
   "cell_type": "markdown",
   "id": "92f0fd35",
   "metadata": {},
   "source": [
    "# IAM User: \n",
    "    (identity access managment) used for particular work, if i want you to use a pericular service i will \n",
    "    select\n",
    "\n",
    "\n",
    "# Root User:\n",
    "    administeration tools e.g deleting account etc, all rights are available"
   ]
  },
  {
   "cell_type": "markdown",
   "id": "7bb74f5d",
   "metadata": {},
   "source": [
    "# To connect aws sagemaker to system first:\n"
   ]
  },
  {
   "cell_type": "markdown",
   "id": "c0a5f66c",
   "metadata": {},
   "source": [
    "\n",
    "-we have to create IAMUSER\n",
    "-then run the command aws configure\n",
    "-and then command $ aws sagemaker list-endpoints --region eu-west-1\n",
    "   ---if this does not work then \n",
    "    --click on the user created\n",
    "    --add permissions\n",
    "    --attach existing policies directly\n",
    "    --check administrator access\n",
    "    --sagemaker fullaccess"
   ]
  },
  {
   "cell_type": "markdown",
   "id": "cfdf670f",
   "metadata": {},
   "source": [
    "-then we create a s3 bucket "
   ]
  },
  {
   "cell_type": "markdown",
   "id": "5a84753a",
   "metadata": {},
   "source": [
    "# Now we upload data for Labeling"
   ]
  },
  {
   "cell_type": "markdown",
   "id": "aec3fb55",
   "metadata": {},
   "source": [
    "1. Using the AWS CLI, we create an S3 bucket hosted in the same region we're running\n",
    "SageMaker in. Bucket names are globally unique, so please make sure to pick your\n",
    "own unique name when you create the bucket. Use the following code (feel free to\n",
    "use another AWS Region):\n",
    "$ aws s3 mb s3://sagemaker-book --region eu-west-1"
   ]
  },
  {
   "cell_type": "markdown",
   "id": "d9fc10aa",
   "metadata": {},
   "source": [
    "2. then we run the following command:\n",
    "$ aws s3 cp --recursive cat/ s3://sagemaker-book/\n",
    "chapter2/cat/"
   ]
  },
  {
   "cell_type": "code",
   "execution_count": null,
   "id": "0785ab5a",
   "metadata": {},
   "outputs": [],
   "source": []
  },
  {
   "cell_type": "markdown",
   "id": "7e2b9d44",
   "metadata": {},
   "source": [
    "# Labeling data with Amazon SageMaker Ground Truth"
   ]
  },
  {
   "cell_type": "markdown",
   "id": "28c610f3",
   "metadata": {},
   "source": [
    "Ground Truth can enable automatic\n",
    "labeling, a technique that trains a machine learning model able to label data without\n",
    "additional human intervention."
   ]
  },
  {
   "cell_type": "markdown",
   "id": "1a932650",
   "metadata": {},
   "source": [
    "# Using workforces\n",
    "The first step in using Ground Truth is to create a workforce, a group of workers in charge\n",
    "of labeling data samples.\n",
    "1. Amazon Mechanical Turk, \n",
    "2. Vendor\n",
    "3. Private"
   ]
  },
  {
   "cell_type": "markdown",
   "id": "8c2bbd02",
   "metadata": {},
   "source": [
    "# Amazon Mechanical Turk:   (https://www.mturk.com/) \n",
    "makes it easy to break down large batch jobs into small work units that can be processed by a distributed workforce."
   ]
  },
  {
   "cell_type": "markdown",
   "id": "434a38e1",
   "metadata": {},
   "source": [
    "# Vendor workforce:\n",
    "As scalable as Mechanical Turk is, sometimes you need more control on who data\n",
    "is shared with, and on the quality of annotations, particularly if additional domain\n",
    "knowledge is required."
   ]
  },
  {
   "cell_type": "markdown",
   "id": "7f3ed543",
   "metadata": {},
   "source": [
    "# Private workforce:\n",
    "Sometimes, data can't be processed by third parties. Maybe it's just too sensitive, or maybe\n",
    "it requires expert knowledge that only your company's employees have. In this case, you\n",
    "can create a private workforce made up of well-identified individuals that will access and\n",
    "label your data."
   ]
  },
  {
   "cell_type": "markdown",
   "id": "aeba6ad1",
   "metadata": {},
   "source": [
    "# Creating a labeling job"
   ]
  },
  {
   "cell_type": "markdown",
   "id": "d8d0c619",
   "metadata": {},
   "source": [
    "First, we give the job a name, say 'my-cat-job'. Then, we define the location of the\n",
    "data in S3. Ground Truth expects a manifest file: a manifest file is a JSON file that\n",
    "lets you filter which objects need to be labeled, and which ones should be left out.\n",
    "Once the job is complete, a new file, called the augmented manifest, will contain\n",
    "labeling information, and we'll be able to use this to feed data to training jobs."
   ]
  },
  {
   "cell_type": "code",
   "execution_count": null,
   "id": "6289ab3d",
   "metadata": {},
   "outputs": [],
   "source": []
  },
  {
   "cell_type": "code",
   "execution_count": null,
   "id": "f27d57cf",
   "metadata": {},
   "outputs": [],
   "source": []
  }
 ],
 "metadata": {
  "kernelspec": {
   "display_name": "sagemaker",
   "language": "python",
   "name": "sagemaker"
  },
  "language_info": {
   "codemirror_mode": {
    "name": "ipython",
    "version": 3
   },
   "file_extension": ".py",
   "mimetype": "text/x-python",
   "name": "python",
   "nbconvert_exporter": "python",
   "pygments_lexer": "ipython3",
   "version": "3.9.12"
  }
 },
 "nbformat": 4,
 "nbformat_minor": 5
}
