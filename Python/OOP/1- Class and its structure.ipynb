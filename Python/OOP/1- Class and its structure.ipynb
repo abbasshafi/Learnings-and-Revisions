{
 "cells": [
  {
   "cell_type": "code",
   "execution_count": null,
   "id": "5931371c",
   "metadata": {},
   "outputs": [],
   "source": [
    "#two types of class in python\n",
    "built-in: list, int, tuple\n",
    "user defined classes"
   ]
  },
  {
   "cell_type": "code",
   "execution_count": 2,
   "id": "1502f544",
   "metadata": {},
   "outputs": [],
   "source": [
    "class Atm:\n",
    "    def __init__(self):  #this is called constructor\n",
    "        self.pin= \"\"      #everything inside a constructor is executed directly no need to call\n",
    "        self.balance= 0\n",
    "        print(\"I have been executed without my will\")"
   ]
  },
  {
   "cell_type": "code",
   "execution_count": 3,
   "id": "8597cb71",
   "metadata": {},
   "outputs": [
    {
     "name": "stdout",
     "output_type": "stream",
     "text": [
      "I have been executed without my will\n"
     ]
    }
   ],
   "source": [
    "#how to make object\n",
    "#object name=class name()\n",
    "\n",
    "obj=Atm()"
   ]
  },
  {
   "cell_type": "code",
   "execution_count": null,
   "id": "83ab7e3d",
   "metadata": {},
   "outputs": [],
   "source": []
  }
 ],
 "metadata": {
  "kernelspec": {
   "display_name": "Python 3 (ipykernel)",
   "language": "python",
   "name": "python3"
  },
  "language_info": {
   "codemirror_mode": {
    "name": "ipython",
    "version": 3
   },
   "file_extension": ".py",
   "mimetype": "text/x-python",
   "name": "python",
   "nbconvert_exporter": "python",
   "pygments_lexer": "ipython3",
   "version": "3.9.12"
  }
 },
 "nbformat": 4,
 "nbformat_minor": 5
}
