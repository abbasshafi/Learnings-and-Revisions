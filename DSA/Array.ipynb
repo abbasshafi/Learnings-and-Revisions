{
 "cells": [
  {
   "cell_type": "markdown",
   "id": "7d088b0f",
   "metadata": {},
   "source": [
    "# Static Array:\n",
    "    Those array in which memory spaced are alocated initialy and data can be stored according to the \n",
    "    space specified.\n",
    "    \n",
    "    \n",
    "# Dynamic Array:\n",
    "    Those arrrays in which memory space is not specified and data can be stored with no restriction."
   ]
  },
  {
   "cell_type": "code",
   "execution_count": 7,
   "id": "4567e9a5",
   "metadata": {},
   "outputs": [],
   "source": [
    "expense=[{\n",
    "    'Jan':2200,\n",
    "    'Feb':2350,\n",
    "    'March':2600,\n",
    "    'April':2130,\n",
    "    'May':2190\n",
    "}]"
   ]
  },
  {
   "cell_type": "code",
   "execution_count": 8,
   "id": "93519a12",
   "metadata": {},
   "outputs": [
    {
     "name": "stdout",
     "output_type": "stream",
     "text": [
      "[{'Jan': 2200, 'Feb': 2350, 'March': 2600, 'April': 2130, 'May': 2190}]\n"
     ]
    }
   ],
   "source": [
    "print(expense)"
   ]
  },
  {
   "cell_type": "code",
   "execution_count": 13,
   "id": "64a738fb",
   "metadata": {},
   "outputs": [
    {
     "ename": "AttributeError",
     "evalue": "'dict' object has no attribute 'key'",
     "output_type": "error",
     "traceback": [
      "\u001b[0;31m---------------------------------------------------------------------------\u001b[0m",
      "\u001b[0;31mAttributeError\u001b[0m                            Traceback (most recent call last)",
      "Input \u001b[0;32mIn [13]\u001b[0m, in \u001b[0;36m<cell line: 1>\u001b[0;34m()\u001b[0m\n\u001b[0;32m----> 1\u001b[0m \u001b[43mexpense\u001b[49m\u001b[43m[\u001b[49m\u001b[38;5;241;43m0\u001b[39;49m\u001b[43m]\u001b[49m\u001b[38;5;241;43m.\u001b[39;49m\u001b[43mkey\u001b[49m()\n",
      "\u001b[0;31mAttributeError\u001b[0m: 'dict' object has no attribute 'key'"
     ]
    }
   ],
   "source": [
    "expense[0].key()"
   ]
  },
  {
   "cell_type": "code",
   "execution_count": null,
   "id": "24e3f802",
   "metadata": {},
   "outputs": [],
   "source": [
    "for i in expence:\n",
    "    expence"
   ]
  }
 ],
 "metadata": {
  "kernelspec": {
   "display_name": "Python 3 (ipykernel)",
   "language": "python",
   "name": "python3"
  },
  "language_info": {
   "codemirror_mode": {
    "name": "ipython",
    "version": 3
   },
   "file_extension": ".py",
   "mimetype": "text/x-python",
   "name": "python",
   "nbconvert_exporter": "python",
   "pygments_lexer": "ipython3",
   "version": "3.9.12"
  }
 },
 "nbformat": 4,
 "nbformat_minor": 5
}
