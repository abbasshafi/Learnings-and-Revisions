{
 "cells": [
  {
   "cell_type": "code",
   "execution_count": null,
   "id": "7a542679",
   "metadata": {},
   "outputs": [],
   "source": []
  },
  {
   "cell_type": "code",
   "execution_count": null,
   "id": "15e8e2f4",
   "metadata": {},
   "outputs": [],
   "source": [
    "attribute: Variable\n",
    "Method: functionn\n",
    "instance:\n"
   ]
  },
  {
   "cell_type": "code",
   "execution_count": 5,
   "id": "0487dd02",
   "metadata": {},
   "outputs": [],
   "source": [
    "class mob:\n",
    "    def __init__(self,camera,ram,battery):\n",
    "        self.camera=camera\n",
    "        self.ram=ram\n",
    "        self.battery=battery\n",
    "        \n",
    "    def details(self):\n",
    "        print(self.camera+ self.ram+ self.battery)\n",
    "        \n",
    "iphone=mob('12 MP','6 Gb','500 mAh')        "
   ]
  },
  {
   "cell_type": "code",
   "execution_count": 6,
   "id": "4971c591",
   "metadata": {},
   "outputs": [
    {
     "name": "stdout",
     "output_type": "stream",
     "text": [
      "12 MP6 Gb500 mAh\n"
     ]
    }
   ],
   "source": [
    "iphone.details()"
   ]
  },
  {
   "cell_type": "code",
   "execution_count": 1,
   "id": "7bd41973",
   "metadata": {},
   "outputs": [],
   "source": [
    "class car:\n",
    "    def __init__(self,model,year,color):\n",
    "        self.model=model\n",
    "        self.year=year\n",
    "        self.color=color\n",
    "        \n",
    "    def disp_details(self):\n",
    "        print(\"The details of the car are\"+ self.model + self.year + self.color)"
   ]
  },
  {
   "cell_type": "code",
   "execution_count": 6,
   "id": "2eaeec24",
   "metadata": {},
   "outputs": [],
   "source": [
    "corolla=car(' Altis ',\" 2017 \",\" super white\")"
   ]
  },
  {
   "cell_type": "code",
   "execution_count": 7,
   "id": "7bcc9ed9",
   "metadata": {},
   "outputs": [
    {
     "name": "stdout",
     "output_type": "stream",
     "text": [
      "The details of the car are Altis  2017  super white\n"
     ]
    }
   ],
   "source": [
    "corolla.disp_details()"
   ]
  },
  {
   "cell_type": "markdown",
   "id": "3208eb2b",
   "metadata": {},
   "source": [
    "# Task #1"
   ]
  },
  {
   "cell_type": "markdown",
   "id": "94b5b03f",
   "metadata": {},
   "source": [
    "Write a calculator capable of finding square , cube , square root"
   ]
  },
  {
   "cell_type": "code",
   "execution_count": null,
   "id": "8c4c1e23",
   "metadata": {},
   "outputs": [],
   "source": [
    "def calculator:\n",
    "    def __init__(self,square,cube,squareRoot):\n",
    "        self.square=square\n",
    "        self.cube=cube\n",
    "        self.squareRoot=squareRoot\n",
    "        \n",
    "    def square(self):\n",
    "        "
   ]
  }
 ],
 "metadata": {
  "kernelspec": {
   "display_name": "Python 3 (ipykernel)",
   "language": "python",
   "name": "python3"
  },
  "language_info": {
   "codemirror_mode": {
    "name": "ipython",
    "version": 3
   },
   "file_extension": ".py",
   "mimetype": "text/x-python",
   "name": "python",
   "nbconvert_exporter": "python",
   "pygments_lexer": "ipython3",
   "version": "3.9.12"
  }
 },
 "nbformat": 4,
 "nbformat_minor": 5
}
