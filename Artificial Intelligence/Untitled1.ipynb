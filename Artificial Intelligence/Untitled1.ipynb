{
 "cells": [
  {
   "cell_type": "code",
   "execution_count": null,
   "id": "7a542679",
   "metadata": {},
   "outputs": [],
   "source": []
  },
  {
   "cell_type": "code",
   "execution_count": null,
   "id": "15e8e2f4",
   "metadata": {},
   "outputs": [],
   "source": [
    "attribute: Variable\n",
    "Method: functionn\n",
    "\n"
   ]
  },
  {
   "cell_type": "code",
   "execution_count": 5,
   "id": "0487dd02",
   "metadata": {},
   "outputs": [],
   "source": [
    "class mob:\n",
    "    def __init__(self,camera,ram,battery):\n",
    "        self.camera=camera\n",
    "        self.ram=ram\n",
    "        self.battery=battery\n",
    "        \n",
    "    def details(self):\n",
    "        print(self.camera+ self.ram+ self.battery)\n",
    "        \n",
    "iphone=mob('12 MP','6 Gb','500 mAh')        "
   ]
  },
  {
   "cell_type": "code",
   "execution_count": 6,
   "id": "4971c591",
   "metadata": {},
   "outputs": [
    {
     "name": "stdout",
     "output_type": "stream",
     "text": [
      "12 MP6 Gb500 mAh\n"
     ]
    }
   ],
   "source": [
    "iphone.details()"
   ]
  },
  {
   "cell_type": "code",
   "execution_count": null,
   "id": "7bd41973",
   "metadata": {},
   "outputs": [],
   "source": []
  }
 ],
 "metadata": {
  "kernelspec": {
   "display_name": "Python 3 (ipykernel)",
   "language": "python",
   "name": "python3"
  },
  "language_info": {
   "codemirror_mode": {
    "name": "ipython",
    "version": 3
   },
   "file_extension": ".py",
   "mimetype": "text/x-python",
   "name": "python",
   "nbconvert_exporter": "python",
   "pygments_lexer": "ipython3",
   "version": "3.9.12"
  }
 },
 "nbformat": 4,
 "nbformat_minor": 5
}
