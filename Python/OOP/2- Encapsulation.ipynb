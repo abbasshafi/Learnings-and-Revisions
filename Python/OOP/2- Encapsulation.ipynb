{
 "cells": [
  {
   "cell_type": "code",
   "execution_count": 1,
   "id": "7b7a15b0",
   "metadata": {},
   "outputs": [],
   "source": [
    "#instance variable: those variable whose value is different for different object e.g var defind in constructor"
   ]
  },
  {
   "cell_type": "code",
   "execution_count": 3,
   "id": "90cd77d7",
   "metadata": {},
   "outputs": [],
   "source": [
    "#when __ is added before attribute/method is becomes private"
   ]
  },
  {
   "cell_type": "code",
   "execution_count": null,
   "id": "ff90192f",
   "metadata": {},
   "outputs": [],
   "source": [
    "the attribute is then saved as \n",
    "_classname__attribute"
   ]
  },
  {
   "cell_type": "code",
   "execution_count": null,
   "id": "32ad1b2e",
   "metadata": {},
   "outputs": [],
   "source": []
  },
  {
   "cell_type": "code",
   "execution_count": 2,
   "id": "40baa146",
   "metadata": {},
   "outputs": [],
   "source": [
    "class Atm:\n",
    "\n",
    "  # constructor(special function)->superpower -> \n",
    "  def __init__(self):\n",
    "    print(id(self))\n",
    "    self.pin = ''\n",
    "    self.__balance = 0\n",
    "    #self.menu()\n",
    "\n",
    "  def get_balance(self):\n",
    "    return self.__balance\n",
    "\n",
    "  def set_balance(self,new_value):\n",
    "    if type(new_value) == int:\n",
    "      self.__balance = new_value\n",
    "    else:\n",
    "      print('beta bahot maarenge')\n",
    "\n",
    "  def __menu(self):\n",
    "    user_input = input(\"\"\"\n",
    "    Hi how can I help you?\n",
    "    1. Press 1 to create pin\n",
    "    2. Press 2 to change pin\n",
    "    3. Press 3 to check balance\n",
    "    4. Press 4 to withdraw\n",
    "    5. Anything else to exit\n",
    "    \"\"\")\n",
    "\n",
    "    if user_input == '1':\n",
    "      self.create_pin()\n",
    "    elif user_input == '2':\n",
    "      self.change_pin()\n",
    "    elif user_input == '3':\n",
    "      self.check_balance()\n",
    "    elif user_input == '4':\n",
    "      self.withdraw()\n",
    "    else:\n",
    "      exit()\n",
    "\n",
    "  def create_pin(self):\n",
    "    user_pin = input('enter your pin')\n",
    "    self.pin = user_pin\n",
    "\n",
    "    user_balance = int(input('enter balance'))\n",
    "    self.__balance = user_balance\n",
    "\n",
    "    print('pin created successfully')\n",
    "\n",
    "  def change_pin(self):\n",
    "    old_pin = input('enter old pin')\n",
    "\n",
    "    if old_pin == self.pin:\n",
    "      # let him change the pin\n",
    "      new_pin = input('enter new pin')\n",
    "      self.pin = new_pin\n",
    "      print('pin change successful')\n",
    "    else:\n",
    "      print('nai karne de sakta re baba')\n",
    "\n",
    "  def check_balance(self):\n",
    "    user_pin = input('enter your pin')\n",
    "    if user_pin == self.pin:\n",
    "      print('your balance is ',self.__balance)\n",
    "    else:\n",
    "      print('chal nikal yahan se')\n",
    "\n",
    "  def withdraw(self):\n",
    "    user_pin = input('enter the pin')\n",
    "    if user_pin == self.pin:\n",
    "      # allow to withdraw\n",
    "      amount = int(input('enter the amount'))\n",
    "      if amount <= self.__balance:\n",
    "        self.__balance = self.__balance - amount\n",
    "        print('withdrawl successful.balance is',self.__balance)\n",
    "      else:\n",
    "        print('abe garib')\n",
    "    else:\n",
    "      print('sale chor')"
   ]
  },
  {
   "cell_type": "code",
   "execution_count": 1,
   "id": "738d1716",
   "metadata": {},
   "outputs": [],
   "source": [
    "#Static variable --> Its variable of class, has diff value for diff obj , for class, in class outside methods\n",
    "#instance variable --> var of obj, has value same for every obj, for obj e.g self written with it, in constructor"
   ]
  },
  {
   "cell_type": "code",
   "execution_count": null,
   "id": "e04e0fce",
   "metadata": {},
   "outputs": [],
   "source": []
  }
 ],
 "metadata": {
  "kernelspec": {
   "display_name": "Python 3 (ipykernel)",
   "language": "python",
   "name": "python3"
  },
  "language_info": {
   "codemirror_mode": {
    "name": "ipython",
    "version": 3
   },
   "file_extension": ".py",
   "mimetype": "text/x-python",
   "name": "python",
   "nbconvert_exporter": "python",
   "pygments_lexer": "ipython3",
   "version": "3.9.12"
  }
 },
 "nbformat": 4,
 "nbformat_minor": 5
}
