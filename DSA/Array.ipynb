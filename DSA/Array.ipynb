{
 "cells": [
  {
   "cell_type": "markdown",
   "id": "56455802",
   "metadata": {},
   "source": [
    "# Static Array:\n",
    "    Those array in which memory spaced are alocated initialy and data can be stored according to the \n",
    "    space specified.\n",
    "    \n",
    "    \n",
    "# Dynamic Array:\n",
    "    Those arrrays in which memory space is not specified and data can be stored with no restriction."
   ]
  },
  {
   "cell_type": "code",
   "execution_count": 7,
   "id": "d5aac4ba",
   "metadata": {},
   "outputs": [],
   "source": [
    "expense=[{\n",
    "    'Jan':2200,\n",
    "    'Feb':2350,\n",
    "    'March':2600,\n",
    "    'April':2130,\n",
    "    'May':2190\n",
    "}]"
   ]
  },
  {
   "cell_type": "code",
   "execution_count": 8,
   "id": "f177d220",
   "metadata": {},
   "outputs": [
    {
     "name": "stdout",
     "output_type": "stream",
     "text": [
      "[{'Jan': 2200, 'Feb': 2350, 'March': 2600, 'April': 2130, 'May': 2190}]\n"
     ]
    }
   ],
   "source": [
    "print(expense)"
   ]
  },
  {
   "cell_type": "code",
   "execution_count": 14,
   "id": "5fe9364c",
   "metadata": {},
   "outputs": [
    {
     "data": {
      "text/plain": [
       "{'Jan': 2200, 'Feb': 2350, 'March': 2600, 'April': 2130, 'May': 2190}"
      ]
     },
     "execution_count": 14,
     "metadata": {},
     "output_type": "execute_result"
    }
   ],
   "source": [
    "expense[0]"
   ]
  },
  {
   "cell_type": "code",
   "execution_count": 1,
   "id": "626cc4f9",
   "metadata": {},
   "outputs": [
    {
     "ename": "NameError",
     "evalue": "name 'expence' is not defined",
     "output_type": "error",
     "traceback": [
      "\u001b[0;31m---------------------------------------------------------------------------\u001b[0m",
      "\u001b[0;31mNameError\u001b[0m                                 Traceback (most recent call last)",
      "Input \u001b[0;32mIn [1]\u001b[0m, in \u001b[0;36m<cell line: 1>\u001b[0;34m()\u001b[0m\n\u001b[0;32m----> 1\u001b[0m \u001b[38;5;28;01mfor\u001b[39;00m i \u001b[38;5;129;01min\u001b[39;00m \u001b[43mexpence\u001b[49m:\n\u001b[1;32m      2\u001b[0m     expence\n",
      "\u001b[0;31mNameError\u001b[0m: name 'expence' is not defined"
     ]
    }
   ],
   "source": [
    "for i in expence:\n",
    "    expence"
   ]
  },
  {
   "cell_type": "markdown",
   "id": "e1214c72",
   "metadata": {},
   "source": [
    "# Question #2"
   ]
  },
  {
   "cell_type": "code",
   "execution_count": 2,
   "id": "6613f977",
   "metadata": {},
   "outputs": [],
   "source": [
    "heros=['spiderman','thor','hulk','ironman','captain america']"
   ]
  },
  {
   "cell_type": "code",
   "execution_count": 3,
   "id": "7601cf83",
   "metadata": {},
   "outputs": [
    {
     "data": {
      "text/plain": [
       "5"
      ]
     },
     "execution_count": 3,
     "metadata": {},
     "output_type": "execute_result"
    }
   ],
   "source": [
    "len(heros)"
   ]
  },
  {
   "cell_type": "code",
   "execution_count": null,
   "id": "45058a20",
   "metadata": {},
   "outputs": [],
   "source": [
    "heros.add(())"
   ]
  }
 ],
 "metadata": {
  "kernelspec": {
   "display_name": "Python 3 (ipykernel)",
   "language": "python",
   "name": "python3"
  },
  "language_info": {
   "codemirror_mode": {
    "name": "ipython",
    "version": 3
   },
   "file_extension": ".py",
   "mimetype": "text/x-python",
   "name": "python",
   "nbconvert_exporter": "python",
   "pygments_lexer": "ipython3",
   "version": "3.9.12"
  }
 },
 "nbformat": 4,
 "nbformat_minor": 5
}
