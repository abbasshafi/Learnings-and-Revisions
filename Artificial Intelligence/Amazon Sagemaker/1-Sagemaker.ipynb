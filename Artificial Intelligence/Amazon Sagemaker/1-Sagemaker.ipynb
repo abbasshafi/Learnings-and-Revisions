{
 "cells": [
  {
   "cell_type": "code",
   "execution_count": 1,
   "id": "96864456",
   "metadata": {},
   "outputs": [],
   "source": [
    "import sagemaker\n",
    "import boto3"
   ]
  },
  {
   "cell_type": "markdown",
   "id": "c9c0e0ed",
   "metadata": {},
   "source": [
    "# S3"
   ]
  },
  {
   "cell_type": "markdown",
   "id": "1f5891c0",
   "metadata": {},
   "source": [
    "Amazon Simple Storage Service (Amazon S3) is an object storage service"
   ]
  },
  {
   "cell_type": "markdown",
   "id": "7d971366",
   "metadata": {},
   "source": [
    "S3 can be accessed globaly"
   ]
  },
  {
   "cell_type": "markdown",
   "id": "e3b77163",
   "metadata": {},
   "source": [
    "# Amazon SageMaker Studio"
   ]
  },
  {
   "cell_type": "markdown",
   "id": "6ca7207a",
   "metadata": {},
   "source": [
    "Amazon SageMaker Studio provides a single, web-based visual interface where you can perform all ML development steps, improving data science team productivity by up to 10x. SageMaker Studio gives you complete access, control, and visibility into each step required to build, train, and deploy models."
   ]
  },
  {
   "cell_type": "markdown",
   "id": "49d6f11e",
   "metadata": {},
   "source": [
    "# Notebook Instance"
   ]
  },
  {
   "cell_type": "markdown",
   "id": "0c2374ef",
   "metadata": {},
   "source": [
    "You use the notebook instance to create and manage Jupyter notebooks for preprocessing data and to train and deploy machine learning models."
   ]
  },
  {
   "cell_type": "markdown",
   "id": "7daf211b",
   "metadata": {},
   "source": [
    "# Difference between sagemaker studio and notebook instance"
   ]
  },
  {
   "cell_type": "markdown",
   "id": "90f61a07",
   "metadata": {},
   "source": [
    "Starting a Studio notebook is faster than launching an instance-based notebook. Typically, it is 5-10 times faster than instance-based notebooks.\n",
    "\n",
    "Notebook sharing is an integrated feature in SageMaker Studio. Users can generate a shareable link that reproduces the notebook code and also the SageMaker image required to execute it, in just a few clicks.\n",
    "\n",
    "SageMaker Studio notebooks come pre-installed with the latest Amazon SageMaker Python SDK.\n",
    "\n",
    "SageMaker Studio notebooks are accessed from within Studio. This enables you to build, train, debug, track, and monitor your models without leaving Studio"
   ]
  },
  {
   "cell_type": "code",
   "execution_count": null,
   "id": "553bd6b6",
   "metadata": {},
   "outputs": [],
   "source": []
  }
 ],
 "metadata": {
  "kernelspec": {
   "display_name": "sagemaker",
   "language": "python",
   "name": "sagemaker"
  },
  "language_info": {
   "codemirror_mode": {
    "name": "ipython",
    "version": 3
   },
   "file_extension": ".py",
   "mimetype": "text/x-python",
   "name": "python",
   "nbconvert_exporter": "python",
   "pygments_lexer": "ipython3",
   "version": "3.9.12"
  }
 },
 "nbformat": 4,
 "nbformat_minor": 5
}
