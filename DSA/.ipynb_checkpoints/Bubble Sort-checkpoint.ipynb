{
 "cells": [
  {
   "cell_type": "code",
   "execution_count": 1,
   "id": "a1ad5cd2",
   "metadata": {},
   "outputs": [],
   "source": [
    "elements=[4,100,2,88,6,32,10,1]\n",
    "size=len(elements)\n"
   ]
  },
  {
   "cell_type": "code",
   "execution_count": 2,
   "id": "56ea4966",
   "metadata": {},
   "outputs": [
    {
     "data": {
      "text/plain": [
       "[4, 100, 2, 88, 6, 32, 10, 1]"
      ]
     },
     "execution_count": 2,
     "metadata": {},
     "output_type": "execute_result"
    }
   ],
   "source": [
    "elements"
   ]
  },
  {
   "cell_type": "code",
   "execution_count": 3,
   "id": "a353b00c",
   "metadata": {},
   "outputs": [
    {
     "data": {
      "text/plain": [
       "8"
      ]
     },
     "execution_count": 3,
     "metadata": {},
     "output_type": "execute_result"
    }
   ],
   "source": [
    "size"
   ]
  },
  {
   "cell_type": "code",
   "execution_count": 38,
   "id": "da6945f7",
   "metadata": {},
   "outputs": [],
   "source": [
    "def bubble_s(elements):\n",
    "    for j in range(size-1):\n",
    "        swapped= False\n",
    "        for i in range(size-1-j):\n",
    "            if elements[i]> elements[i+1]:\n",
    "                temp=elements[i]\n",
    "                elements[i]=elements[i+1]\n",
    "                elements[i+1]=temp\n",
    "                swapped=True\n",
    "                \n",
    "        if swapped==False:\n",
    "            break\n",
    "    "
   ]
  },
  {
   "cell_type": "code",
   "execution_count": 39,
   "id": "5dc4745b",
   "metadata": {},
   "outputs": [],
   "source": [
    "bubble_s(elements)"
   ]
  },
  {
   "cell_type": "code",
   "execution_count": 40,
   "id": "e607f34a",
   "metadata": {},
   "outputs": [
    {
     "name": "stdout",
     "output_type": "stream",
     "text": [
      "[1, 2, 4, 6, 10, 32, 88, 100]\n"
     ]
    }
   ],
   "source": [
    "print(elements)"
   ]
  },
  {
   "cell_type": "markdown",
   "id": "84097b0d",
   "metadata": {},
   "source": [
    "# Exercise"
   ]
  },
  {
   "cell_type": "code",
   "execution_count": 1,
   "id": "76e3a519",
   "metadata": {},
   "outputs": [],
   "source": [
    "elements = [\n",
    "        { 'name': 'mona',   'transaction_amount': 1000, 'device': 'iphone-10'},\n",
    "        { 'name': 'dhaval', 'transaction_amount': 400,  'device': 'google pixel'},\n",
    "        { 'name': 'kathy',  'transaction_amount': 200,  'device': 'vivo'},\n",
    "        { 'name': 'aamir',  'transaction_amount': 800,  'device': 'iphone-8'},\n",
    "    ]"
   ]
  },
  {
   "cell_type": "code",
   "execution_count": 2,
   "id": "503b7577",
   "metadata": {},
   "outputs": [
    {
     "ename": "SyntaxError",
     "evalue": "invalid syntax (1823633723.py, line 1)",
     "output_type": "error",
     "traceback": [
      "\u001b[0;36m  Input \u001b[0;32mIn [2]\u001b[0;36m\u001b[0m\n\u001b[0;31m    bubble_sort(elements, key='transaction_amount'):\u001b[0m\n\u001b[0m                                                    ^\u001b[0m\n\u001b[0;31mSyntaxError\u001b[0m\u001b[0;31m:\u001b[0m invalid syntax\n"
     ]
    }
   ],
   "source": [
    "bubble_sort(elements, key='transaction_amount'):\n",
    "    for i in range(size-1):\n",
    "        swapped=False\n",
    "        for j in range(size-1-j):\n",
    "            if elements[i]>elements[i+1]:\n",
    "                temp=element[i]\n",
    "                element[i]=element[i+1]\n",
    "                element[i+1]=temp\n",
    "                swapped=True\n",
    "        if swapped=False:\n",
    "            break\n",
    "                "
   ]
  },
  {
   "cell_type": "code",
   "execution_count": null,
   "id": "3af96151",
   "metadata": {},
   "outputs": [],
   "source": []
  }
 ],
 "metadata": {
  "kernelspec": {
   "display_name": "Python 3 (ipykernel)",
   "language": "python",
   "name": "python3"
  },
  "language_info": {
   "codemirror_mode": {
    "name": "ipython",
    "version": 3
   },
   "file_extension": ".py",
   "mimetype": "text/x-python",
   "name": "python",
   "nbconvert_exporter": "python",
   "pygments_lexer": "ipython3",
   "version": "3.9.12"
  }
 },
 "nbformat": 4,
 "nbformat_minor": 5
}
