{
 "cells": [
  {
   "cell_type": "code",
   "execution_count": 9,
   "id": "7c051286",
   "metadata": {},
   "outputs": [],
   "source": [
    "import torch\n",
    "from torch import nn"
   ]
  },
  {
   "cell_type": "code",
   "execution_count": 6,
   "id": "6164664f",
   "metadata": {},
   "outputs": [],
   "source": [
    "#when we take our input x and then multiply it by weights and add your bias term thats linear Transformation"
   ]
  },
  {
   "cell_type": "code",
   "execution_count": 7,
   "id": "ac1a8a9c",
   "metadata": {},
   "outputs": [],
   "source": [
    "class Neural(nn.Module):\n",
    "    def __init__(self):\n",
    "        super.__init__()\n",
    "        \n",
    "        #it creates an object that itself has created parameters for weights and bias and then pass a tensor h layer\n",
    "        self.hidden= nn.Linear(784,256)\n",
    "        \n",
    "        #input of 256 and output 10\n",
    "        self.output=nn.Linear(256,10)\n",
    "        \n",
    "        #define sigmoid activation and softmax output\n",
    "        self.sigmoid=nn.Sigmoid()\n",
    "        self.softmax=nn.softmax(dim=1)\n",
    "        \n",
    "        def forward(self,x):\n",
    "            #pass the input tensor through all of the operations\n",
    "            x=self.hidden(x)\n",
    "            x=self.output(x)\n",
    "            x=self.sigmoid(x)\n",
    "            x=self.softmax(x)\n",
    "            \n",
    "            return x"
   ]
  },
  {
   "cell_type": "code",
   "execution_count": 8,
   "id": "8edce35b",
   "metadata": {},
   "outputs": [],
   "source": [
    "import torch.nn.functional as F\n",
    "class Neural(nn.Module):\n",
    "    def __init__(self):\n",
    "        super.__init__()\n",
    "        \n",
    "        self.hidden= nn.Linear(784,256)\n",
    "        \n",
    "        self.out=nn.Linear(256,10)\n",
    "        \n",
    "       \n",
    "        \n",
    "        def forward(self,x):\n",
    "            x=F.sigmoid(self.hidden(x))\n",
    "            x=F.softmax(self.output(x))\n",
    "            \n",
    "            return x"
   ]
  },
  {
   "cell_type": "code",
   "execution_count": null,
   "id": "9082a02d",
   "metadata": {},
   "outputs": [],
   "source": []
  },
  {
   "cell_type": "code",
   "execution_count": null,
   "id": "294e60b5",
   "metadata": {},
   "outputs": [],
   "source": []
  },
  {
   "cell_type": "code",
   "execution_count": null,
   "id": "7d083cb9",
   "metadata": {},
   "outputs": [],
   "source": [
    "#1: Make a forward pass through the network"
   ]
  },
  {
   "cell_type": "code",
   "execution_count": 10,
   "id": "7245bb4b",
   "metadata": {},
   "outputs": [],
   "source": [
    "import torch\n",
    "import torch.nn as nn\n",
    "\n",
    "# Define the network architecture\n",
    "class Network(nn.Module):\n",
    "    def __init__(self, input_size, hidden_size, num_classes):\n",
    "        super(Network, self).__init__()\n",
    "        self.fc1 = nn.Linear(input_size, hidden_size)\n",
    "        self.relu = nn.ReLU()\n",
    "        self.fc2 = nn.Linear(hidden_size, num_classes)\n",
    "    \n",
    "    def forward(self, x):\n",
    "        out = self.fc1(x)\n",
    "        out = self.relu(out)\n",
    "        out = self.fc2(out)\n",
    "        return out\n",
    "\n",
    "# Create an instance of the network\n",
    "input_size = 784\n",
    "hidden_size = 500\n",
    "num_classes = 10\n",
    "model = Network(input_size, hidden_size, num_classes)\n",
    "\n",
    "# Define input data\n",
    "input_data = torch.randn(100, input_size)\n",
    "\n",
    "# Make a forward pass through the network\n",
    "output = model(input_data)\n"
   ]
  },
  {
   "cell_type": "code",
   "execution_count": null,
   "id": "4aeb6bae",
   "metadata": {},
   "outputs": [],
   "source": [
    "#2: Use the network output to calculate the loss"
   ]
  },
  {
   "cell_type": "code",
   "execution_count": 11,
   "id": "d406cd97",
   "metadata": {},
   "outputs": [
    {
     "name": "stdout",
     "output_type": "stream",
     "text": [
      "Loss:  2.3894283771514893\n"
     ]
    }
   ],
   "source": [
    "# Define true labels\n",
    "labels = torch.randint(low=0, high=num_classes, size=(100,))\n",
    "\n",
    "# Calculate the loss\n",
    "criterion = nn.CrossEntropyLoss()\n",
    "loss = criterion(output, labels)\n",
    "\n",
    "# Print the loss\n",
    "print(\"Loss: \", loss.item())\n"
   ]
  },
  {
   "cell_type": "code",
   "execution_count": null,
   "id": "4dc7193b",
   "metadata": {},
   "outputs": [],
   "source": [
    "#3: Perform a backward pass through the network with loss.backward() to calculate the gradients"
   ]
  },
  {
   "cell_type": "code",
   "execution_count": 12,
   "id": "3e5ccd9e",
   "metadata": {},
   "outputs": [],
   "source": [
    "#Zero the gradients\n",
    "model.zero_grad()\n",
    "\n",
    "# Perform the backward pass\n",
    "loss.backward()\n"
   ]
  },
  {
   "cell_type": "code",
   "execution_count": null,
   "id": "42cb6dc2",
   "metadata": {},
   "outputs": [],
   "source": [
    "#4: Take a step with the optimizer to update the weights"
   ]
  },
  {
   "cell_type": "code",
   "execution_count": 13,
   "id": "e5cb0ec6",
   "metadata": {},
   "outputs": [],
   "source": [
    "# Define an optimizer\n",
    "optimizer = torch.optim.SGD(model.parameters(), lr=0.01)\n",
    "\n",
    "# Update the parameters\n",
    "optimizer.step()\n"
   ]
  },
  {
   "cell_type": "code",
   "execution_count": null,
   "id": "f527066a",
   "metadata": {},
   "outputs": [],
   "source": []
  },
  {
   "cell_type": "code",
   "execution_count": null,
   "id": "ee6b5f3e",
   "metadata": {},
   "outputs": [],
   "source": []
  }
 ],
 "metadata": {
  "kernelspec": {
   "display_name": "Python 3 (ipykernel)",
   "language": "python",
   "name": "python3"
  },
  "language_info": {
   "codemirror_mode": {
    "name": "ipython",
    "version": 3
   },
   "file_extension": ".py",
   "mimetype": "text/x-python",
   "name": "python",
   "nbconvert_exporter": "python",
   "pygments_lexer": "ipython3",
   "version": "3.9.12"
  }
 },
 "nbformat": 4,
 "nbformat_minor": 5
}
