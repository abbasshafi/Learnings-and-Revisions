{
 "cells": [
  {
   "cell_type": "code",
   "execution_count": null,
   "id": "27957df9",
   "metadata": {},
   "outputs": [],
   "source": [
    "class has all the rules  rules are attributes/methods\n",
    " with object follows\n",
    "    \n",
    "Golden rule of OOP: All the attributes/methods are only accessible by objects of class"
   ]
  },
  {
   "cell_type": "code",
   "execution_count": 2,
   "id": "5931371c",
   "metadata": {},
   "outputs": [],
   "source": [
    "#two types of class in python\n",
    "built-in: list, int, tuple\n",
    "user defined classes\n",
    "\n",
    "+ =public  visible outside the class\n",
    "- =pvt  not visible outside the class"
   ]
  },
  {
   "cell_type": "code",
   "execution_count": 9,
   "id": "1502f544",
   "metadata": {},
   "outputs": [],
   "source": [
    "class Atm:\n",
    "    def __init__(self):  #this is called constructor\n",
    "        self.pin= \"\"      #everything inside a constructor is executed directly no need to call\n",
    "        self.balance= 0\n",
    "        print(\"Welcome to ATM Machine\")\n",
    "#         self.menu()\n",
    "        \n",
    "    def menu(self):\n",
    "        user_input=input(\"\"\"\n",
    "        Hi, How can I help you?\n",
    "        1.Press 1 for balance inquiry\n",
    "        2.Press 2 for withdraw\n",
    "        3.Pess 3 for create pin\n",
    "        4.Press 4 to change pin\n",
    "        \"\"\")"
   ]
  },
  {
   "cell_type": "code",
   "execution_count": null,
   "id": "8597cb71",
   "metadata": {},
   "outputs": [],
   "source": [
    "#how to make object\n",
    "#object name=class name()\n",
    "\n",
    "obj=Atm()\n",
    "obj.menu()"
   ]
  },
  {
   "cell_type": "code",
   "execution_count": null,
   "id": "f3bfa634",
   "metadata": {},
   "outputs": [],
   "source": [
    "# Magic method aka dunder method\n",
    "__name__  or __init__ #this is magic method, you dont have to call it, it trigers automatically\n",
    "#using magic method you can create your own datatypes"
   ]
  },
  {
   "cell_type": "code",
   "execution_count": null,
   "id": "83ab7e3d",
   "metadata": {},
   "outputs": [],
   "source": [
    "Constructor is basically a method and a speciall method it has got a super power which is we dont need to call it\n",
    "Its used to write configuration related code if i had to connect my app to database its code will be in const\n",
    "configuration related task which you want to do without asking user\n",
    "its control is not with the user"
   ]
  },
  {
   "cell_type": "code",
   "execution_count": null,
   "id": "ab55b149",
   "metadata": {},
   "outputs": [],
   "source": [
    "Self:\n",
    "    if one method wants to talk to another method then self will help\n",
    "    your object is your self\n",
    "    used to access one method form another method"
   ]
  },
  {
   "cell_type": "code",
   "execution_count": null,
   "id": "168b4e61",
   "metadata": {},
   "outputs": [],
   "source": [
    "#Creating a new data type"
   ]
  },
  {
   "cell_type": "code",
   "execution_count": 6,
   "id": "57976e5b",
   "metadata": {},
   "outputs": [],
   "source": [
    "class Fraction:\n",
    "    def __init__(self,x,y):   #parameterized constructor bcz it needs input\n",
    "        self.num=x\n",
    "        self.den=y\n",
    "        \n",
    "    def __str__(self):  #how to print like \n",
    "        return '{}/{}'.format(self.num,self.den)"
   ]
  },
  {
   "cell_type": "code",
   "execution_count": 7,
   "id": "c09bf724",
   "metadata": {},
   "outputs": [],
   "source": [
    "fr1=Fraction(3,4)"
   ]
  },
  {
   "cell_type": "code",
   "execution_count": 8,
   "id": "dcae4726",
   "metadata": {},
   "outputs": [
    {
     "name": "stdout",
     "output_type": "stream",
     "text": [
      "3/4\n"
     ]
    }
   ],
   "source": [
    "print(fr1)"
   ]
  },
  {
   "cell_type": "code",
   "execution_count": 5,
   "id": "60f73a6b",
   "metadata": {},
   "outputs": [
    {
     "data": {
      "text/plain": [
       "__main__.Fraction"
      ]
     },
     "execution_count": 5,
     "metadata": {},
     "output_type": "execute_result"
    }
   ],
   "source": [
    "type(fr1)"
   ]
  },
  {
   "cell_type": "code",
   "execution_count": null,
   "id": "47e7612b",
   "metadata": {},
   "outputs": [],
   "source": []
  },
  {
   "cell_type": "code",
   "execution_count": null,
   "id": "7f45d0f2",
   "metadata": {},
   "outputs": [],
   "source": []
  }
 ],
 "metadata": {
  "kernelspec": {
   "display_name": "Python 3 (ipykernel)",
   "language": "python",
   "name": "python3"
  },
  "language_info": {
   "codemirror_mode": {
    "name": "ipython",
    "version": 3
   },
   "file_extension": ".py",
   "mimetype": "text/x-python",
   "name": "python",
   "nbconvert_exporter": "python",
   "pygments_lexer": "ipython3",
   "version": "3.9.12"
  }
 },
 "nbformat": 4,
 "nbformat_minor": 5
}
