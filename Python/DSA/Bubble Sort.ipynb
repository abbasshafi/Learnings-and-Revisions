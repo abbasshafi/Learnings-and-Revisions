{
 "cells": [
  {
   "cell_type": "code",
   "execution_count": 17,
   "id": "a1ad5cd2",
   "metadata": {},
   "outputs": [],
   "source": [
    "elements=[4,100,2,88,6,32,10,1]\n",
    "size=len(elements)\n"
   ]
  },
  {
   "cell_type": "code",
   "execution_count": 18,
   "id": "56ea4966",
   "metadata": {},
   "outputs": [
    {
     "data": {
      "text/plain": [
       "[4, 100, 2, 88, 6, 32, 10, 1]"
      ]
     },
     "execution_count": 18,
     "metadata": {},
     "output_type": "execute_result"
    }
   ],
   "source": [
    "elements"
   ]
  },
  {
   "cell_type": "code",
   "execution_count": 3,
   "id": "a353b00c",
   "metadata": {},
   "outputs": [
    {
     "data": {
      "text/plain": [
       "8"
      ]
     },
     "execution_count": 3,
     "metadata": {},
     "output_type": "execute_result"
    }
   ],
   "source": [
    "size"
   ]
  },
  {
   "cell_type": "code",
   "execution_count": 38,
   "id": "da6945f7",
   "metadata": {},
   "outputs": [],
   "source": [
    "def bubble_s(elements):\n",
    "    for j in range(size-1):\n",
    "        swapped= False\n",
    "        for i in range(size-1-j):\n",
    "            if elements[i]> elements[i+1]:\n",
    "                temp=elements[i]\n",
    "                elements[i]=elements[i+1]\n",
    "                elements[i+1]=temp\n",
    "                swapped=True\n",
    "                \n",
    "        if swapped==False:\n",
    "            break\n",
    "    "
   ]
  },
  {
   "cell_type": "code",
   "execution_count": 39,
   "id": "5dc4745b",
   "metadata": {},
   "outputs": [],
   "source": [
    "bubble_s(elements)"
   ]
  },
  {
   "cell_type": "code",
   "execution_count": 21,
   "id": "e607f34a",
   "metadata": {},
   "outputs": [
    {
     "name": "stdout",
     "output_type": "stream",
     "text": [
      "[4, 100, 2, 88, 6, 32, 10, 1]\n"
     ]
    }
   ],
   "source": [
    "print(elements)"
   ]
  },
  {
   "cell_type": "markdown",
   "id": "e5959bdf",
   "metadata": {},
   "source": [
    "# Exercise"
   ]
  },
  {
   "cell_type": "code",
   "execution_count": 29,
   "id": "758cafd8",
   "metadata": {},
   "outputs": [],
   "source": [
    "elements = [\n",
    "        { 'name': 'mona',   'transaction_amount': 1000, 'device': 'iphone-10'},\n",
    "        { 'name': 'dhaval', 'transaction_amount': 400,  'device': 'google pixel'},\n",
    "        { 'name': 'kathy',  'transaction_amount': 200,  'device': 'vivo'},\n",
    "        { 'name': 'aamir',  'transaction_amount': 800,  'device': 'iphone-8'},\n",
    "    ]\n"
   ]
  },
  {
   "cell_type": "code",
   "execution_count": 30,
   "id": "f93151f0",
   "metadata": {},
   "outputs": [],
   "source": [
    "def bubble_sort(elements):\n",
    "    size=len(elements)\n",
    "    for i in range(size-1):\n",
    "        swapped=False\n",
    "        a = elements[j][key]\n",
    "        b = elements[j+1][key]\n",
    "        if a > b:\n",
    "            tmp = elements[j]\n",
    "            elements[j] = elements[j+1]\n",
    "            elements[j+1] = tmp\n",
    "            if swapped==False:\n",
    "                break\n",
    "                "
   ]
  },
  {
   "cell_type": "code",
   "execution_count": 31,
   "id": "7dc1bc5b",
   "metadata": {},
   "outputs": [
    {
     "ename": "TypeError",
     "evalue": "bubble_sort() got an unexpected keyword argument 'key'",
     "output_type": "error",
     "traceback": [
      "\u001b[0;31m---------------------------------------------------------------------------\u001b[0m",
      "\u001b[0;31mTypeError\u001b[0m                                 Traceback (most recent call last)",
      "Input \u001b[0;32mIn [31]\u001b[0m, in \u001b[0;36m<cell line: 1>\u001b[0;34m()\u001b[0m\n\u001b[0;32m----> 1\u001b[0m \u001b[43mbubble_sort\u001b[49m\u001b[43m(\u001b[49m\u001b[43melements\u001b[49m\u001b[43m,\u001b[49m\u001b[43m \u001b[49m\u001b[43mkey\u001b[49m\u001b[38;5;241;43m=\u001b[39;49m\u001b[38;5;124;43m'\u001b[39;49m\u001b[38;5;124;43mtransaction_amount\u001b[39;49m\u001b[38;5;124;43m'\u001b[39;49m\u001b[43m)\u001b[49m\n",
      "\u001b[0;31mTypeError\u001b[0m: bubble_sort() got an unexpected keyword argument 'key'"
     ]
    }
   ],
   "source": [
    "bubble_sort(elements, key='transaction_amount')"
   ]
  },
  {
   "cell_type": "code",
   "execution_count": null,
   "id": "0904b976",
   "metadata": {},
   "outputs": [],
   "source": []
  },
  {
   "cell_type": "code",
   "execution_count": null,
   "id": "a87d7b6c",
   "metadata": {},
   "outputs": [],
   "source": []
  }
 ],
 "metadata": {
  "kernelspec": {
   "display_name": "Python 3 (ipykernel)",
   "language": "python",
   "name": "python3"
  },
  "language_info": {
   "codemirror_mode": {
    "name": "ipython",
    "version": 3
   },
   "file_extension": ".py",
   "mimetype": "text/x-python",
   "name": "python",
   "nbconvert_exporter": "python",
   "pygments_lexer": "ipython3",
   "version": "3.9.12"
  }
 },
 "nbformat": 4,
 "nbformat_minor": 5
}
