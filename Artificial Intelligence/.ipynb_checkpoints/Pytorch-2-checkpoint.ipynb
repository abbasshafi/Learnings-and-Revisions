{
 "cells": [
  {
   "cell_type": "code",
   "execution_count": 3,
   "id": "8b3eef3e",
   "metadata": {},
   "outputs": [],
   "source": [
    "import torch\n",
    "import torch.nn as nn #its nn modules like ffnn and loss function etc\n",
    "import torch.optim as optim  #all the optimization algos like stocastic gradient decent etc\n",
    "import torch.nn.functional as F #funcation having no parameters like activation function,relu\n",
    "from torch.utils.data import DataLoader #gives us easier dataset management helps create minibatches to train on\n",
    "import torchvision.datasets as datasets #having multiple datasets\n",
    "import torchvision.transforms as transforms #it has transfromation we can perform on our datset"
   ]
  },
  {
   "cell_type": "markdown",
   "id": "55100ce1",
   "metadata": {},
   "source": [
    "# Create Fully connected Network"
   ]
  },
  {
   "cell_type": "code",
   "execution_count": null,
   "id": "5b1fd711",
   "metadata": {},
   "outputs": [],
   "source": [
    "class NN(nn.Module):\n",
    "    def__init__(self):\n",
    "        "
   ]
  }
 ],
 "metadata": {
  "kernelspec": {
   "display_name": "Python 3 (ipykernel)",
   "language": "python",
   "name": "python3"
  },
  "language_info": {
   "codemirror_mode": {
    "name": "ipython",
    "version": 3
   },
   "file_extension": ".py",
   "mimetype": "text/x-python",
   "name": "python",
   "nbconvert_exporter": "python",
   "pygments_lexer": "ipython3",
   "version": "3.9.12"
  }
 },
 "nbformat": 4,
 "nbformat_minor": 5
}
