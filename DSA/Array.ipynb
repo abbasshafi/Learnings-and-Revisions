{
 "cells": [
  {
   "cell_type": "markdown",
   "id": "56455802",
   "metadata": {},
   "source": [
    "# Static Array:\n",
    "    Those array in which memory spaced are alocated initialy and data can be stored according to the \n",
    "    space specified.\n",
    "    \n",
    "    \n",
    "# Dynamic Array:\n",
    "    Those arrrays in which memory space is not specified and data can be stored with no restriction."
   ]
  },
  {
   "cell_type": "code",
   "execution_count": 7,
   "id": "d5aac4ba",
   "metadata": {},
   "outputs": [],
   "source": [
    "expense=[{\n",
    "    'Jan':2200,\n",
    "    'Feb':2350,\n",
    "    'March':2600,\n",
    "    'April':2130,\n",
    "    'May':2190\n",
    "}]"
   ]
  },
  {
   "cell_type": "code",
   "execution_count": 8,
   "id": "f177d220",
   "metadata": {},
   "outputs": [
    {
     "name": "stdout",
     "output_type": "stream",
     "text": [
      "[{'Jan': 2200, 'Feb': 2350, 'March': 2600, 'April': 2130, 'May': 2190}]\n"
     ]
    }
   ],
   "source": [
    "print(expense)"
   ]
  },
  {
   "cell_type": "code",
   "execution_count": 14,
   "id": "5fe9364c",
   "metadata": {},
   "outputs": [
    {
     "data": {
      "text/plain": [
       "{'Jan': 2200, 'Feb': 2350, 'March': 2600, 'April': 2130, 'May': 2190}"
      ]
     },
     "execution_count": 14,
     "metadata": {},
     "output_type": "execute_result"
    }
   ],
   "source": [
    "expense[0]"
   ]
  },
  {
   "cell_type": "code",
   "execution_count": null,
   "id": "626cc4f9",
   "metadata": {},
   "outputs": [],
   "source": [
    "for i in expence:\n",
    "    expence"
   ]
  }
 ],
 "metadata": {
  "kernelspec": {
   "display_name": "Python 3 (ipykernel)",
   "language": "python",
   "name": "python3"
  },
  "language_info": {
   "codemirror_mode": {
    "name": "ipython",
    "version": 3
   },
   "file_extension": ".py",
   "mimetype": "text/x-python",
   "name": "python",
   "nbconvert_exporter": "python",
   "pygments_lexer": "ipython3",
   "version": "3.9.12"
  }
 },
 "nbformat": 4,
 "nbformat_minor": 5
}
