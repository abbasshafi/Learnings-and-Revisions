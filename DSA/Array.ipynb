{
 "cells": [
  {
   "cell_type": "markdown",
   "id": "56455802",
   "metadata": {},
   "source": [
    "# Static Array:\n",
    "    Those array in which memory spaced are alocated initialy and data can be stored according to the \n",
    "    space specified.\n",
    "    \n",
    "    \n",
    "# Dynamic Array:\n",
    "    Those arrrays in which memory space is not specified and data can be stored with no restriction."
   ]
  },
  {
   "cell_type": "code",
   "execution_count": null,
   "id": "d5aac4ba",
   "metadata": {},
   "outputs": [],
   "source": [
    "expense=[{\n",
    "    'Jan':2200,\n",
    "    'Feb':2350,\n",
    "    'March':2600,\n",
    "    'April':2130,\n",
    "    'May':2190\n",
    "}]"
   ]
  },
  {
   "cell_type": "code",
   "execution_count": null,
   "id": "f177d220",
   "metadata": {},
   "outputs": [],
   "source": [
    "print(expense)"
   ]
  },
  {
   "cell_type": "code",
   "execution_count": null,
   "id": "5fe9364c",
   "metadata": {},
   "outputs": [],
   "source": [
    "expense[0]"
   ]
  },
  {
   "cell_type": "code",
   "execution_count": null,
   "id": "626cc4f9",
   "metadata": {},
   "outputs": [],
   "source": [
    "for i in expence:\n",
    "    expence"
   ]
  },
  {
   "cell_type": "markdown",
   "id": "e5d60282",
   "metadata": {},
   "source": [
    "# Question #2"
   ]
  },
  {
   "cell_type": "code",
   "execution_count": 1,
   "id": "81416e8b",
   "metadata": {},
   "outputs": [],
   "source": [
    "heros=['spiderman','thor','hulk','ironman','captain america']"
   ]
  },
  {
   "cell_type": "code",
   "execution_count": 2,
   "id": "0126c561",
   "metadata": {},
   "outputs": [
    {
     "data": {
      "text/plain": [
       "5"
      ]
     },
     "execution_count": 2,
     "metadata": {},
     "output_type": "execute_result"
    }
   ],
   "source": [
    "len(heros)"
   ]
  },
  {
   "cell_type": "code",
   "execution_count": 3,
   "id": "f3c48067",
   "metadata": {},
   "outputs": [],
   "source": [
    "heros.append('black panther')"
   ]
  },
  {
   "cell_type": "code",
   "execution_count": 4,
   "id": "037be808",
   "metadata": {},
   "outputs": [
    {
     "data": {
      "text/plain": [
       "['spiderman', 'thor', 'hulk', 'ironman', 'captain america', 'black panther']"
      ]
     },
     "execution_count": 4,
     "metadata": {},
     "output_type": "execute_result"
    }
   ],
   "source": [
    "heros"
   ]
  },
  {
   "cell_type": "code",
   "execution_count": 5,
   "id": "aec5d24d",
   "metadata": {},
   "outputs": [],
   "source": [
    "del heros[5]"
   ]
  },
  {
   "cell_type": "code",
   "execution_count": 6,
   "id": "cf3eeaf8",
   "metadata": {},
   "outputs": [
    {
     "data": {
      "text/plain": [
       "['spiderman', 'thor', 'hulk', 'ironman', 'captain america']"
      ]
     },
     "execution_count": 6,
     "metadata": {},
     "output_type": "execute_result"
    }
   ],
   "source": [
    "heros"
   ]
  },
  {
   "cell_type": "code",
   "execution_count": 7,
   "id": "17bc2a2e",
   "metadata": {},
   "outputs": [],
   "source": [
    "heros.insert(3,\"black panther\")"
   ]
  },
  {
   "cell_type": "code",
   "execution_count": 8,
   "id": "4a980bab",
   "metadata": {},
   "outputs": [
    {
     "data": {
      "text/plain": [
       "['spiderman', 'thor', 'hulk', 'black panther', 'ironman', 'captain america']"
      ]
     },
     "execution_count": 8,
     "metadata": {},
     "output_type": "execute_result"
    }
   ],
   "source": [
    "heros"
   ]
  },
  {
   "cell_type": "code",
   "execution_count": 9,
   "id": "c3bdafa2",
   "metadata": {},
   "outputs": [],
   "source": [
    "heros[1:3]=['doctor strange']"
   ]
  },
  {
   "cell_type": "code",
   "execution_count": 10,
   "id": "72073929",
   "metadata": {},
   "outputs": [
    {
     "name": "stdout",
     "output_type": "stream",
     "text": [
      "['spiderman', 'doctor strange', 'black panther', 'ironman', 'captain america']\n"
     ]
    }
   ],
   "source": [
    "print(heros)"
   ]
  },
  {
   "cell_type": "code",
   "execution_count": 11,
   "id": "6ce1f654",
   "metadata": {},
   "outputs": [
    {
     "data": {
      "text/plain": [
       "['__add__',\n",
       " '__class__',\n",
       " '__class_getitem__',\n",
       " '__contains__',\n",
       " '__delattr__',\n",
       " '__delitem__',\n",
       " '__dir__',\n",
       " '__doc__',\n",
       " '__eq__',\n",
       " '__format__',\n",
       " '__ge__',\n",
       " '__getattribute__',\n",
       " '__getitem__',\n",
       " '__gt__',\n",
       " '__hash__',\n",
       " '__iadd__',\n",
       " '__imul__',\n",
       " '__init__',\n",
       " '__init_subclass__',\n",
       " '__iter__',\n",
       " '__le__',\n",
       " '__len__',\n",
       " '__lt__',\n",
       " '__mul__',\n",
       " '__ne__',\n",
       " '__new__',\n",
       " '__reduce__',\n",
       " '__reduce_ex__',\n",
       " '__repr__',\n",
       " '__reversed__',\n",
       " '__rmul__',\n",
       " '__setattr__',\n",
       " '__setitem__',\n",
       " '__sizeof__',\n",
       " '__str__',\n",
       " '__subclasshook__',\n",
       " 'append',\n",
       " 'clear',\n",
       " 'copy',\n",
       " 'count',\n",
       " 'extend',\n",
       " 'index',\n",
       " 'insert',\n",
       " 'pop',\n",
       " 'remove',\n",
       " 'reverse',\n",
       " 'sort']"
      ]
     },
     "execution_count": 11,
     "metadata": {},
     "output_type": "execute_result"
    }
   ],
   "source": [
    "dir(heros)"
   ]
  },
  {
   "cell_type": "code",
   "execution_count": 12,
   "id": "3b0b0479",
   "metadata": {},
   "outputs": [],
   "source": [
    "heros.sort()"
   ]
  },
  {
   "cell_type": "code",
   "execution_count": 13,
   "id": "2db9937c",
   "metadata": {},
   "outputs": [
    {
     "data": {
      "text/plain": [
       "['black panther', 'captain america', 'doctor strange', 'ironman', 'spiderman']"
      ]
     },
     "execution_count": 13,
     "metadata": {},
     "output_type": "execute_result"
    }
   ],
   "source": [
    "heros"
   ]
  },
  {
   "cell_type": "code",
   "execution_count": null,
   "id": "ae7c0b4a",
   "metadata": {},
   "outputs": [],
   "source": []
  }
 ],
 "metadata": {
  "kernelspec": {
   "display_name": "Python 3 (ipykernel)",
   "language": "python",
   "name": "python3"
  },
  "language_info": {
   "codemirror_mode": {
    "name": "ipython",
    "version": 3
   },
   "file_extension": ".py",
   "mimetype": "text/x-python",
   "name": "python",
   "nbconvert_exporter": "python",
   "pygments_lexer": "ipython3",
   "version": "3.9.12"
  }
 },
 "nbformat": 4,
 "nbformat_minor": 5
}
